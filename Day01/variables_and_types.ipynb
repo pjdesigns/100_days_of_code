{
  "nbformat": 4,
  "nbformat_minor": 0,
  "metadata": {
    "colab": {
      "provenance": []
    },
    "kernelspec": {
      "name": "python3",
      "display_name": "Python 3"
    },
    "language_info": {
      "name": "python"
    }
  },
  "cells": [
    {
      "cell_type": "markdown",
      "source": [
        "Variables and Types\n",
        "\n",
        "Variables are labes that you can assign to values\n",
        "\n",
        "\n",
        "\n",
        "*   The value of a variable can be changed at any time\n",
        "*   Avoid python keywords and function names as variable name\n",
        "\n",
        "\n",
        "\n",
        "\n"
      ],
      "metadata": {
        "id": "QgvRUPE3hj2_"
      }
    },
    {
      "cell_type": "code",
      "source": [
        "message = 'Hello Python World!'\n",
        "print(message)"
      ],
      "metadata": {
        "colab": {
          "base_uri": "https://localhost:8080/"
        },
        "id": "GMQRoqcVhnOA",
        "outputId": "a65d437d-f34f-43e5-a8b2-b66f201ca3ff"
      },
      "execution_count": null,
      "outputs": [
        {
          "output_type": "stream",
          "name": "stdout",
          "text": [
            "Hello Python World!\n"
          ]
        }
      ]
    },
    {
      "cell_type": "code",
      "source": [
        "first_name = 'James'\n",
        "last_name = 'Johnson'\n",
        "\n",
        "# This is called an F string. F stands for Format and Python formats the string by replacing the name of any variable in braces with its value.\n",
        "full_name = f\"{first_name} {last_name}\"\n",
        "print(full_name)\n"
      ],
      "metadata": {
        "colab": {
          "base_uri": "https://localhost:8080/"
        },
        "id": "Uy1cfgSgiijM",
        "outputId": "9b636438-8d39-4417-fde4-f2395a2f4d61"
      },
      "execution_count": null,
      "outputs": [
        {
          "output_type": "stream",
          "name": "stdout",
          "text": [
            "James Johnson\n"
          ]
        }
      ]
    },
    {
      "cell_type": "code",
      "source": [
        "#Adding Whitespace to Strings with Tabs or New Lines\n",
        "\n",
        "\n",
        "print('Python')\n",
        "# '\\t' adds a tab\n",
        "print('\\tPython')\n",
        "# '\\n' adds a new line\n",
        "print('Python\\nJavaScript')\n",
        "\n",
        "favorite_pizza = 'pepperoni '\n",
        "print(favorite_pizza)"
      ],
      "metadata": {
        "colab": {
          "base_uri": "https://localhost:8080/"
        },
        "id": "c5wMgVs4kf02",
        "outputId": "db0cd119-fe25-44f0-98a2-f72503178cd2"
      },
      "execution_count": 1,
      "outputs": [
        {
          "output_type": "stream",
          "name": "stdout",
          "text": [
            "Python\n",
            "\tPython\n",
            "Python\n",
            "JavaScript\n",
            "pepperoni \n"
          ]
        }
      ]
    },
    {
      "cell_type": "code",
      "source": [
        "#integer\n",
        "3 **2"
      ],
      "metadata": {
        "colab": {
          "base_uri": "https://localhost:8080/"
        },
        "id": "Ox2tsT97NZW2",
        "outputId": "a1a43af3-c64a-4252-976c-c7a66a0b2aaf"
      },
      "execution_count": 3,
      "outputs": [
        {
          "output_type": "execute_result",
          "data": {
            "text/plain": [
              "9"
            ]
          },
          "metadata": {},
          "execution_count": 3
        }
      ]
    },
    {
      "cell_type": "code",
      "source": [
        "import this"
      ],
      "metadata": {
        "id": "8PTe1wTrkquO",
        "colab": {
          "base_uri": "https://localhost:8080/"
        },
        "outputId": "74337dcf-4225-49cf-8355-c1642d5920bb"
      },
      "execution_count": 4,
      "outputs": [
        {
          "output_type": "stream",
          "name": "stdout",
          "text": [
            "The Zen of Python, by Tim Peters\n",
            "\n",
            "Beautiful is better than ugly.\n",
            "Explicit is better than implicit.\n",
            "Simple is better than complex.\n",
            "Complex is better than complicated.\n",
            "Flat is better than nested.\n",
            "Sparse is better than dense.\n",
            "Readability counts.\n",
            "Special cases aren't special enough to break the rules.\n",
            "Although practicality beats purity.\n",
            "Errors should never pass silently.\n",
            "Unless explicitly silenced.\n",
            "In the face of ambiguity, refuse the temptation to guess.\n",
            "There should be one-- and preferably only one --obvious way to do it.\n",
            "Although that way may not be obvious at first unless you're Dutch.\n",
            "Now is better than never.\n",
            "Although never is often better than *right* now.\n",
            "If the implementation is hard to explain, it's a bad idea.\n",
            "If the implementation is easy to explain, it may be a good idea.\n",
            "Namespaces are one honking great idea -- let's do more of those!\n"
          ]
        }
      ]
    }
  ]
}